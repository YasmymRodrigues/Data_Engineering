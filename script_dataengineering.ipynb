{
 "cells": [
  {
   "cell_type": "code",
   "execution_count": null,
   "metadata": {},
   "outputs": [],
   "source": [
    "#pip install pyodbc"
   ]
  },
  {
   "cell_type": "code",
   "execution_count": 5,
   "metadata": {},
   "outputs": [],
   "source": [
    "import pyodbc\n",
    "import pandas as pd"
   ]
  },
  {
   "cell_type": "code",
   "execution_count": null,
   "metadata": {},
   "outputs": [],
   "source": [
    "# Database connection parameters\n",
    "server = 'PT-L163255\\SQLEXPRESS01'  # e.g., 'localhost' or 'server_name'\n",
    "database = 'University'  # e.g., 'my_database'\n",
    "\n",
    "# Connection string\n",
    "conn_str = (\n",
    "    f\"DRIVER={{ODBC Driver 17 for SQL Server}};\"\n",
    "    f\"SERVER={server};\"\n",
    "    f\"DATABASE={database};\"\n",
    "    f'Trusted_Connection=yes;'\n",
    ")\n",
    "\n",
    "# Connect to the SQL Server database\n",
    "conn = pyodbc.connect(conn_str)\n",
    "\n",
    "# Execute a query and load data into a DataFrame\n",
    "#query = \"SELECT * FROM aluno\"  # Replace 'your_table' with your actual table name\n",
    "#df = pd.read_sql_query(query, conn)\n",
    "\n",
    "query = f\"SELECT * FROM aluno\"\n",
    "cursor = conn.cursor()\n",
    "cursor.execute(query)\n",
    "results = [list(row) for row in cursor.fetchall()]\n",
    "colunas = ['nr_aluno', 'nome', 'apelido', 'curso', 'media_entrada', 'curso_concluido', 'media_final']\n",
    "df = pd.DataFrame(results, columns= colunas )"
   ]
  },
  {
   "cell_type": "code",
   "execution_count": null,
   "metadata": {},
   "outputs": [],
   "source": [
    "#Não há duplicados\n",
    "duplicados = df['nr_aluno'].duplicated()\n",
    "duplicates = df.duplicated()\n",
    "#print(df[duplicates])"
   ]
  },
  {
   "cell_type": "code",
   "execution_count": null,
   "metadata": {},
   "outputs": [],
   "source": [
    "#Apelido retirar os parenteses\n",
    "df['apelido'] = df['apelido'].str.replace(r'[()]', '', regex=True)\n",
    "\n",
    "#Confirmar os resultados do apelido\n",
    "\n",
    "for i in df['apelido']:\n",
    "    if '(' in i:\n",
    "       print(i)"
   ]
  },
  {
   "cell_type": "code",
   "execution_count": null,
   "metadata": {},
   "outputs": [],
   "source": [
    "#Confirmar curso \n",
    "\n",
    "cursos = ['Psicologia', 'Informática', 'Comunicação']\n",
    "df.loc[~df['curso'].isin(cursos)] = 'NULL'\n",
    "\n",
    "for i in df['curso']:\n",
    "    if i not in ['Psicologia', 'Informática', 'Comunicação']:\n",
    "          print(i)\n"
   ]
  },
  {
   "cell_type": "code",
   "execution_count": null,
   "metadata": {},
   "outputs": [],
   "source": [
    "#convert str to int 'media_entrada' e 'media_final\n",
    "#df['media_entrada'] = df['media_entrada'].astype(int)\n",
    "#df = df[df['media_entrada'] > 0]\n",
    "'''\n",
    "for i in df['media_entrada']:\n",
    "    if i != 'NULL':\n",
    "        if int(i) < 0:\n",
    "            print(i)\n",
    "'''\n",
    "#print(df['media_entrada'].isnull())\n",
    "\n",
    "print(df)"
   ]
  },
  {
   "cell_type": "code",
   "execution_count": null,
   "metadata": {},
   "outputs": [],
   "source": [
    "#df['curso'] = df['curso'].str.replace(r'', 'NULL', regex=True)\n",
    "\n",
    "#print(duplicados)\n",
    "\n",
    "\n",
    "# Write DataFrame to a CSV file\n",
    "#df.to_csv('output_db.csv', index=False)\n",
    "\n",
    "# Close the database connection\n",
    "conn.close()\n"
   ]
  }
 ],
 "metadata": {
  "kernelspec": {
   "display_name": "Python 3",
   "language": "python",
   "name": "python3"
  },
  "language_info": {
   "codemirror_mode": {
    "name": "ipython",
    "version": 3
   },
   "file_extension": ".py",
   "mimetype": "text/x-python",
   "name": "python",
   "nbconvert_exporter": "python",
   "pygments_lexer": "ipython3",
   "version": "3.10.13"
  }
 },
 "nbformat": 4,
 "nbformat_minor": 2
}
